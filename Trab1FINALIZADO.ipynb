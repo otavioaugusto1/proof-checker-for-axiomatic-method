{
  "nbformat": 4,
  "nbformat_minor": 0,
  "metadata": {
    "colab": {
      "name": "Trab1FINALIZADO.ipynb",
      "provenance": [],
      "collapsed_sections": [],
      "include_colab_link": true
    },
    "kernelspec": {
      "name": "python3",
      "display_name": "Python 3"
    }
  },
  "cells": [
    {
      "cell_type": "markdown",
      "metadata": {
        "id": "view-in-github",
        "colab_type": "text"
      },
      "source": [
        "<a href=\"https://colab.research.google.com/github/otavioaugusto1/proof-checker-for-axiomatic-method/blob/main/Trab1FINALIZADO.ipynb\" target=\"_parent\"><img src=\"https://colab.research.google.com/assets/colab-badge.svg\" alt=\"Open In Colab\"/></a>"
      ]
    },
    {
      "cell_type": "code",
      "metadata": {
        "id": "CDO2zGjBtn-r"
      },
      "source": [
        "import re\n",
        "import numpy as np\n",
        "import sys"
      ],
      "execution_count": null,
      "outputs": []
    },
    {
      "cell_type": "code",
      "metadata": {
        "id": "1wzTpZrKiqft"
      },
      "source": [
        "exemplo3_alexandre = [ \"1 (q>(a>q)) >1 p=q;q=a\"]"
      ],
      "execution_count": null,
      "outputs": []
    },
    {
      "cell_type": "code",
      "metadata": {
        "id": "Pq9PYcTOYFe8"
      },
      "source": [
        "exemplo_alexandre = [\n",
        "                     \"1 (a>((a>a)>a)) >1 p=a;q=(a>a)\",\n",
        "                     \"2 ((a>((a>a)>a))>((a>(a>a))>(a>a))) >2 p=a;q=(a>a);r=a\",\n",
        "                     \"3 ((a>(a>a))>(a>a)) MP 1,2\",\n",
        "                     \"4 (a>(a>a)) >1 p=a;q=a\",\n",
        "                     \"5 (a>a) MP 3,4\"\n",
        "]"
      ],
      "execution_count": null,
      "outputs": []
    },
    {
      "cell_type": "code",
      "metadata": {
        "id": "N_62fxi9Fagr"
      },
      "source": [
        "exemplo2_alexandre = [\n",
        "                      \"1 (a>((a>a)>a)) >1 p=a;q=(a>a)\",\n",
        "                      \"2 ((a>((a>a)>a))>((a>(a>a))>(a>a))) >2 p=a;q=(a>a);r=a\",\n",
        "                      \"7 ((a>(a>a))>(a>a)) MP 1,2\",\n",
        "                      \"4 (a>(a>a)) >1 p=a;q=a\",\n",
        "                      \"5 (a>a) MP 3,4\"\n",
        "]"
      ],
      "execution_count": null,
      "outputs": []
    },
    {
      "cell_type": "code",
      "metadata": {
        "id": "w6udzPDytxcB"
      },
      "source": [
        "def verificacao_de_Axioma(Regra_de_Inferen):\n",
        "      if Regra_de_Inferen == \">1\": \n",
        "        RegraAxiomas = '(p>(q>p))'\n",
        "      elif Regra_de_Inferen == \">2\": \n",
        "        RegraAxiomas = '((p>(q>r))>((p>q)>(p>r)))'\n",
        "      elif Regra_de_Inferen == \"&1\": \n",
        "       RegraAxiomas = '(p>(q>(p&q)))'\n",
        "      elif Regra_de_Inferen == \"&2\": \n",
        "        RegraAxiomas = '((p&q)>p)'\n",
        "      elif Regra_de_Inferen == \"&3\": \n",
        "        RegraAxiomas = '((p&q)>q)'\n",
        "      elif Regra_de_Inferen == \"v1\": \n",
        "        RegraAxiomas = '(p>(p∨q))'\n",
        "      elif Regra_de_Inferen == \"v2\": \n",
        "        RegraAxiomas = '(q>(p∨q))'\n",
        "      elif Regra_de_Inferen == \"v3\": \n",
        "        RegraAxiomas = '((p>r)>((q>r)>((p∨q)>r)))'\n",
        "      elif Regra_de_Inferen == \"¬1\": \n",
        "        RegraAxiomas = '((p>q)>((p>¬q)>¬p))'\n",
        "      elif Regra_de_Inferen == \"¬2\": \n",
        "        RegraAxiomas = '(¬¬p>p) (¬2)'\n",
        "      elif Regra_de_Inferen == \"MP\":\n",
        "        RegraAxiomas = 'MP'\n",
        "      else:\n",
        "       print(\"regra não encontrada\")\n",
        "      return RegraAxiomas"
      ],
      "execution_count": null,
      "outputs": []
    },
    {
      "cell_type": "code",
      "metadata": {
        "id": "3Ik9SJ7-acaP"
      },
      "source": [
        "def percorrer_axiomas(axiomas):\n",
        "  Linha_do_Axioma = 1\n",
        "  for linha in axiomas: \n",
        "   linhaDividida = linha.split(' ', 3)\n",
        "   indice_da_linha = linhaDividida[0]\n",
        "   verifica_indice(indice_da_linha,Linha_do_Axioma)\n",
        "   regraSub = linhaDividida[3]\n",
        "   regraInf = linhaDividida[2]\n",
        "   Sub_Regra_Axioma = linhaDividida[1]\n",
        "   Array_de_Axioma = np.array(list(Sub_Regra_Axioma))\n",
        "   linhaDividia_Maxima = re.split('[;=]', str(regraSub))\n",
        "   substituicao = verificacao_de_Axioma(regraInf)\n",
        "   substituir_axiomas(linhaDividida, regraSub, linhaDividia_Maxima, substituicao, regraInf, Array_de_Axioma)\n",
        "   Linha_do_Axioma +=1\n",
        "  print(\"Prova por axiomatização correta!\")"
      ],
      "execution_count": null,
      "outputs": []
    },
    {
      "cell_type": "code",
      "metadata": {
        "id": "yq_4sBdOvg8O"
      },
      "source": [
        "def verifica_indice(indice_da_linha,Linha_do_Axioma):\n",
        "  if int(indice_da_linha) == Linha_do_Axioma:\n",
        "    print('', end= '')\n",
        "  else:\n",
        "    print(\"A prova por axiomatização não segue a sequência de linhas!\")\n",
        "    sys.exit()"
      ],
      "execution_count": null,
      "outputs": []
    },
    {
      "cell_type": "code",
      "metadata": {
        "id": "psEB3QSQXsjN"
      },
      "source": [
        "def substituir_axiomas(linhaDividida, regraSub, linhaDividia_Maxima, substituicao, regraInf, Array_de_Axioma):\n",
        "  linhasMPS = ''\n",
        "  if regraInf != 'MP':\n",
        "    if regraSub == '':\n",
        "      print('ERRO!!!  Substituição Vazia')\n",
        "      sys.exit()\n",
        "    for i in range(0, len(linhaDividia_Maxima), 2):\n",
        "      Array_de_Axioma[Array_de_Axioma == i] = i+1\n",
        "    espaco = ''\n",
        "    Array_Final_Axioma= espaco.join(Array_de_Axioma)\n",
        "    if linhaDividida[1] == Array_Final_Axioma:\n",
        "     print('',end = '')\n",
        "    elif linhaDividida[1] != Array_Final_Axioma:\n",
        "      print('Sub Incorreto')\n",
        "      print('linha {} da axiomatização está incorreta' .format(linhaDividida[0]))\n",
        "      sys.exit()\n",
        "  elif regraInf == 'MP':\n",
        "    linhasMPS = regraSub.split(',',1)\n",
        "    primeiraLinha = linhasMPS[0] #primeira linha referenciada pelo MP\n",
        "    segundaLinha = linhasMPS[1]  #segunda linha referenciada pelo MP\n",
        "    verifica_linhaMP(linhaDividida,primeiraLinha,segundaLinha)  \n",
        "    MPTeste = percorreMPS(linhaDividida, linhasMPS, primeiraLinha, segundaLinha)\n",
        "    if linhaDividida[1] == MPTeste:\n",
        "      print('',end = ' ')\n",
        "    else:\n",
        "      print('MP incorreto')\n",
        "      print('linha {} da axiomatização está incorreta' .format(linhaDividida[0]))\n",
        "      sys.exit()\n",
        "  elif linhasMPS == '':\n",
        "    print('Não foi especificado as linhas no Modus Ponens!')\n",
        "    sys.exit()"
      ],
      "execution_count": null,
      "outputs": []
    },
    {
      "cell_type": "code",
      "metadata": {
        "id": "9RLfV7wmC_08"
      },
      "source": [
        "def verifica_linhaMP(linhaDividida,primeiraLinha,segundaLinha):\n",
        "  if linhaDividida[0] > primeiraLinha and linhaDividida[0] > segundaLinha:\n",
        "    print(\"\",end= \"\")\n",
        "  else:\n",
        "    print(\"Erro na linha: \",linhaDividida[0])\n",
        "    print(\"As linhas do Modus Ponens são maiores que o índice da linha atual!\")\n",
        "    sys.exit()"
      ],
      "execution_count": null,
      "outputs": []
    },
    {
      "cell_type": "code",
      "metadata": {
        "id": "a0YcKn74CGLP"
      },
      "source": [
        "def percorreMPS(linhaDividida, linhasMPS, primeiraLinha, segundaLinha):\n",
        "  for i in range(len(exemplo_alexandre)):\n",
        "    if i == int(primeiraLinha) - 1:\n",
        "      MPDiv = exemplo_alexandre[i].split(' ', 3)\n",
        "      MPExemplo1 = MPDiv[1]\n",
        "    elif i == int(segundaLinha) - 1:\n",
        "      MPDiv = exemplo_alexandre[i].split(' ', 3)\n",
        "      MPExemplo2 = MPDiv[1]\n",
        "  if len(MPExemplo1) > len(MPExemplo2):\n",
        "    MPTeste = MPExemplo1.replace(MPExemplo2, '')\n",
        "  else:\n",
        "    MPTeste = MPExemplo2.replace(MPExemplo1, '')\n",
        "  if MPTeste[0] == '>' or MPTeste[0] == '&' or MPTeste[0] == 'v' or MPTeste[0] == '¬':\n",
        "    MPTeste = MPTeste[1:]\n",
        "  elif MPTeste[0:3] == '(>(' or MPTeste[0:3] == '(&(' or MPTeste[0:3] == '(v(' or MPTeste[0:3] == '(¬(':\n",
        "     MPTeste = MPTeste[2:-1]\n",
        "  return MPTeste #MPTeste resultado MP"
      ],
      "execution_count": null,
      "outputs": []
    },
    {
      "cell_type": "code",
      "metadata": {
        "id": "OsYNxLhcK_Cu",
        "colab": {
          "base_uri": "https://localhost:8080/"
        },
        "outputId": "6d205665-3fef-49df-9dc9-c20aa846c038"
      },
      "source": [
        "percorrer_axiomas(exemplo_alexandre)"
      ],
      "execution_count": null,
      "outputs": [
        {
          "output_type": "stream",
          "text": [
            "  Prova por axiomatização correta!\n"
          ],
          "name": "stdout"
        },
        {
          "output_type": "stream",
          "text": [
            "/usr/local/lib/python3.7/dist-packages/ipykernel_launcher.py:8: FutureWarning: elementwise comparison failed; returning scalar instead, but in the future will perform elementwise comparison\n",
            "  \n"
          ],
          "name": "stderr"
        }
      ]
    }
  ]
}